{
 "cells": [
  {
   "cell_type": "markdown",
   "id": "af61f0c7",
   "metadata": {},
   "source": [
    "# ML Assignment 7"
   ]
  },
  {
   "cell_type": "markdown",
   "id": "d906550e",
   "metadata": {},
   "source": [
    "## 1. What is the definition of a target function ? In the sense of a real-life example, express the target function. How is a target function's fitness assessed ?"
   ]
  },
  {
   "cell_type": "markdown",
   "id": "d225cde0",
   "metadata": {},
   "source": [
    "__Ans:__ A target function, in machine learning, is a method for solving a problem that an AI algorithm parses its training data to find.The target function is essentially the formula that an algorithm feeds data to in order to calculate predictions.\n",
    "\n",
    "Analyzing the massive amounts of data related to its given problem, an AI derives understanding of previously unspecified rules by detecting consistencies in the data. The observations of inherent rules about how the studied subject operates inform the AI on how to process future data that does not include an output by applying this previously unknown function."
   ]
  },
  {
   "cell_type": "markdown",
   "id": "203be029",
   "metadata": {},
   "source": [
    "## 2. What are predictive models, and how do they work? What are descriptive types, and how do you use them? Examples of both types of models should be provided. Distinguish between these two forms of models ?"
   ]
  },
  {
   "cell_type": "markdown",
   "id": "53eb7fa1",
   "metadata": {},
   "source": [
    "__Ans:__ In short, predictive modeling is a statistical technique using machine learning and data mining to predict and forecast likely future outcomes with the aid of historical and existing data.\n",
    "\n",
    "It works by analyzing current and historical data and projecting what it learns on a model generated to forecast likely outcomes.\n",
    "\n",
    "The three main types of descriptive studies are __Case studies__, __Naturalistic observation__, and __Surveys__.\n",
    "\n",
    "Some examples of descriptive research are: A specialty food group launching a new range of barbecue rubs would like to understand what flavors of rubs are favored by different people.\n",
    "\n",
    "Case Studies are a type of observational research that involve a thorough descriptive analysis of a single individual, group, or event. There is no single way to conduct a case study so researchers use a range of methods from unstructured interviewing to direct observation."
   ]
  },
  {
   "cell_type": "markdown",
   "id": "1fbcfeef",
   "metadata": {},
   "source": [
    "![image](https://camo.githubusercontent.com/8135d7e72ba10f79176124770f53b5700e5d5521cc70446c22a18671098f879a/68747470733a2f2f696d616765732e736c696465706c617965722e636f6d2f32332f363839353730332f736c696465732f736c6964655f32312e6a7067)"
   ]
  },
  {
   "cell_type": "markdown",
   "id": "49ef4efb",
   "metadata": {},
   "source": [
    "## 3. Describe the method of assessing a classification model's efficiency in detail. Describe the various measurement parameters ?"
   ]
  },
  {
   "cell_type": "markdown",
   "id": "9d0c9d9e",
   "metadata": {},
   "source": [
    "__Ans:__ Logarithmic loss (or log loss) measures the performance of a classification model where the prediction is a probability value between 0 and 1.\n",
    "\n",
    "Log loss increases as the predicted probability diverge from the actual label. Log loss is a widely used metric for Kaggle competitions. Input on the most important basics for the measurement of the physical parameters: Temperature, flow velocity, humidity, pressure, CO2 and infrared. Tips on correct measurement and for avoiding measurement errors."
   ]
  },
  {
   "cell_type": "markdown",
   "id": "8056b47a",
   "metadata": {},
   "source": [
    "## 4. Describe:\n",
    "      i. In the sense of machine learning models, what is underfitting? What is the most common reason for underfitting?\n",
    "     ii. What does it mean to overfit? When is it going to happen?\n",
    "    iii. In the sense of model fitting, explain the bias-variance trade-off.\n"
   ]
  },
  {
   "cell_type": "markdown",
   "id": "96cb1f0f",
   "metadata": {},
   "source": [
    "Ans: The following is the short notes on:\n",
    "\n",
    "- **In the sense of machine learning models, what is underfitting? What is the most common reason for underfitting:**\n",
    "\n",
    "Underfitting is a scenario in data science where a data model is unable to capture the relationship between the input and output variables accurately, generating a high error rate on both the training set and unseen data.\n",
    "\n",
    "- **What does it mean to overfit? When is it going to happen**\n",
    "\n",
    "Overfitting happens when a model learns the detail and noise in the training data to the extent that it negatively impacts the performance of the model on new data. This means that the noise or random fluctuations in the training data is picked up and learned as concepts by the model.\n",
    "\n",
    "- **In the sense of model fitting, explain the bias-variance trade-off**\n",
    "\n",
    "The bias is known as the difference between the prediction of the values by the ML model and the correct value. Being high in biasing gives a large error in training as well as testing data. By high bias, the data predicted is in a straight line format, thus not fitting accurately in the data in the data set."
   ]
  },
  {
   "cell_type": "markdown",
   "id": "0d5fa688",
   "metadata": {},
   "source": [
    "## 5. Is it possible to boost the efficiency of a learning model? If so, please clarify how ?"
   ]
  },
  {
   "cell_type": "markdown",
   "id": "393865c6",
   "metadata": {},
   "source": [
    "**Ans:** Building a machine learning model is not enough to get the right predictions, as you have to check the accuracy and need to validate the same to ensure get the precise results. And validating the model will improve the performance of the ML model."
   ]
  },
  {
   "cell_type": "markdown",
   "id": "694dcd32",
   "metadata": {},
   "source": [
    "## 6. How would you rate an unsupervised learning model's success? What are the most common success indicators for an unsupervised learning model ?"
   ]
  },
  {
   "cell_type": "markdown",
   "id": "7135ea79",
   "metadata": {},
   "source": [
    "**Ans:** In case of supervised learning, it is mostly done by measuring the performance metrics such as accuracy, precision, recall, AUC, etc. on the training set and the holdout sets.\n",
    "\n",
    "Few examples of such measures are:\n",
    "\n",
    "- Silhouette coefficient.\n",
    "- Calisnki-Harabasz coefficient.\n",
    "- Dunn index.\n",
    "- Xie-Beni score.\n",
    "- Hartigan index."
   ]
  },
  {
   "cell_type": "markdown",
   "id": "768dae66",
   "metadata": {},
   "source": [
    "## 7. Is it possible to use a classification model for numerical data or a regression model for categorical data with a classification model? Explain your answer ?"
   ]
  },
  {
   "cell_type": "markdown",
   "id": "9aee62d3",
   "metadata": {},
   "source": [
    "**Ans:** Categorical Data is the data that generally takes a limited number of possible values. Also, the data in the category need not be numerical, it can be textual in nature. All machine learning models are some kind of mathematical model that need numbers to work with. This is one of the primary reasons we need to pre-process the categorical data before we can feed it to machine learning models.\n",
    "\n",
    "If a categorical target variable needs to be encoded for a classification predictive modeling problem, then the LabelEncoder class can be used."
   ]
  },
  {
   "cell_type": "markdown",
   "id": "7adf4f23",
   "metadata": {},
   "source": [
    "## 8. Describe the predictive modeling method for numerical values. What distinguishes it from categorical predictive modeling ?"
   ]
  },
  {
   "cell_type": "markdown",
   "id": "c02875ea",
   "metadata": {},
   "source": [
    "**Ans:** predictive modeling is a statistical technique using machine learning and data mining to predict and forecast likely future outcomes with the aid of historical and existing data. It works by analyzing current and historical data and projecting what it learns on a model generated to forecast likely outcomes.\n",
    "\n",
    "Classification is the process of identifying the category or class label of the new observation to which it belongs.Predication is the process of identifying the missing or unavailable numerical data for a new observation. That is the key difference between classification and prediction.\n",
    "\n"
   ]
  },
  {
   "cell_type": "markdown",
   "id": "57f14a56",
   "metadata": {},
   "source": [
    "## 9. The following data were collected when using a classification model to predict the malignancy of a group of patients' tumors:\n",
    "         i. Accurate estimates – 15 cancerous, 75 benign\n",
    "         ii. Wrong predictions – 3 cancerous, 7 benign\n",
    "                Determine the model's error rate, Kappa value, sensitivity, precision, and F-measure.\n"
   ]
  },
  {
   "cell_type": "markdown",
   "id": "b34c682a",
   "metadata": {},
   "source": [
    "**Ans** To calculate the error rate, Kappa value, sensitivity, precision, and F-measure, we need to define a few terms:\n",
    "\n",
    "- True Positive (TP): The number of cancerous tumors correctly classified.\n",
    "- True Negative (TN): The number of benign tumors correctly classified.\n",
    "- False Positive (FP): The number of benign tumors incorrectly classified as cancerous.\n",
    "- False Negative (FN): The number of cancerous tumors incorrectly classified as benign.\n",
    "\n",
    "Using the provided data, we can calculate the above values:\n",
    "\n",
    "- True Positive (TP) = 15 (accurate cancerous estimates)\n",
    "- True Negative (TN) = 75 (accurate benign estimates)\n",
    "- False Positive (FP) = 7 (wrongly predicted as cancerous, but actually benign)\n",
    "- False Negative (FN) = 3 (wrongly predicted as benign, but actually cancerous)\n",
    "\n",
    "Now we can calculate the performance metrics:\n",
    "\n",
    "1. **Error Rate**: The error rate is the proportion of incorrect predictions made by the model.\n",
    "\n",
    "   Error Rate = (FP + FN) / Total\n",
    "\n",
    "   Error Rate = (7 + 3) / (15 + 75 + 7 + 3) = 0.0833\n",
    "\n",
    "   So, the error rate is 0.0833 or 8.33%.\n",
    "\n",
    "2. **Kappa Value**: The Kappa value measures the agreement between the model's predictions and the actual class labels, considering the possibility of agreement occurring by chance.\n",
    "\n",
    "   Kappa Value = (Total Accuracy - Accuracy by Chance) / (1 - Accuracy by Chance)\n",
    "\n",
    "   Total Accuracy = (TP + TN) / Total\n",
    "\n",
    "   Total Accuracy = (15 + 75) / (15 + 75 + 7 + 3) = 0.9\n",
    "\n",
    "   Accuracy by Chance = (Total Cancerous * Total Predicted Cancerous + Total Benign * Total Predicted Benign) / Total^2\n",
    "\n",
    "   Accuracy by Chance = ((15 + 3) * (15 + 7) + (75 + 7) * (75 + 3)) / (15 + 75 + 7 + 3)^2 = 0.498\n",
    "\n",
    "   Kappa Value = (0.9 - 0.498) / (1 - 0.498) = 0.805\n",
    "\n",
    "   So, the Kappa value is 0.805.\n",
    "\n",
    "3. **Sensitivity (Recall)**: Sensitivity measures the proportion of actual cancerous tumors correctly identified by the model.\n",
    "\n",
    "   Sensitivity = TP / (TP + FN)\n",
    "\n",
    "   Sensitivity = 15 / (15 + 3) = 0.8333\n",
    "\n",
    "   So, the sensitivity is 0.8333 or 83.33%.\n",
    "\n",
    "4. **Precision**: Precision measures the proportion of predicted cancerous tumors that are actually cancerous.\n",
    "\n",
    "   Precision = TP / (TP + FP)\n",
    "\n",
    "   Precision = 15 / (15 + 7) = 0.6818\n",
    "\n",
    "   So, the precision is 0.6818 or 68.18%.\n",
    "\n",
    "5. **F-Measure**: The F-measure combines precision and recall into a single metric, considering both false positives and false negatives.\n",
    "\n",
    "   F-Measure = 2 * (Precision * Recall) / (Precision + Recall)\n",
    "\n",
    "   F-Measure = 2 * (0.6818 * 0.8333) / (0.6818 + 0.8333) = 0.7517\n",
    "\n",
    "   So, the F-measure is 0.7517 or 75.17%."
   ]
  },
  {
   "cell_type": "markdown",
   "id": "7022c0f0",
   "metadata": {},
   "source": [
    "## 10. Make quick notes on:\n",
    "1. The process of holding out\n",
    "2. Cross-validation by tenfold\n",
    "3. Adjusting the parameters\n"
   ]
  },
  {
   "cell_type": "markdown",
   "id": "14d7d1f0",
   "metadata": {},
   "source": [
    "**Ans:** The Quick notes on the following topics is below:\n",
    "\n",
    "**1. The process of holding out:**\n",
    "\n",
    "The hold-out method for training machine learning model is the process of splitting the data in different splits and using one split for training the model and other splits for validating and testing the models. The hold-out method is used for both model evaluation and model selection.\n",
    "\n",
    "**2. Cross-validation by tenfold:**\n",
    "\n",
    "10-fold cross validation would perform the fitting procedure a total of ten times, with each fit being performed on a training set consisting of 90% of the total training set selected at random, with the remaining 10% used as a hold out set for validation.\n",
    "\n",
    "**3. Adjusting the parameters:**\n",
    "\n",
    "A fancy name for training: the selection of parameter values, which are optimal in some desired sense (eg. minimize an objective function you choose over a dataset you choose). The parameters are the weights and biases of the network"
   ]
  },
  {
   "cell_type": "markdown",
   "id": "aa264a55",
   "metadata": {},
   "source": [
    "## 11. Define the following terms:\n",
    "1. Purity vs. Silhouette width\n",
    "2. Boosting vs. Bagging\n",
    "3. The eager learner vs. the lazy learner"
   ]
  },
  {
   "cell_type": "markdown",
   "id": "2e92f71a",
   "metadata": {},
   "source": [
    "__Ans:__ The Following is the short notes on:\n",
    "\n",
    "- **Purity vs Silhouette width:**\n",
    "\n",
    "  - Purity is a measure of the extent to which clusters contain a single class. Its calculation can be thought of as follows: For each cluster, count the number of data points from the most common class in said cluster.\n",
    "  - The silhouette width is also an estimate of the average distance between clusters. Its value is comprised between 1 and -1 with a value of 1 indicating a very good cluster.\n",
    "- **Boosting vs. Bagging:**\n",
    "\n",
    "  - Bagging is a way to decrease the variance in the prediction by generating additional data for training from dataset using combinations with repetitions to produce multi-sets of the original data.\n",
    "  - Boosting is an iterative technique which adjusts the weight of an observation based on the last classification.\n",
    "- **The eager learner vs. the lazy learner:**\n",
    "\n",
    "  - A lazy learner delays abstracting from the data until it is asked to make a prediction.\n",
    "  - while an eager learner abstracts away from the data during training and uses this abstraction to make predictions rather than directly compare queries with instances in the dataset."
   ]
  },
  {
   "cell_type": "code",
   "execution_count": null,
   "id": "16d91a98",
   "metadata": {},
   "outputs": [],
   "source": []
  }
 ],
 "metadata": {
  "kernelspec": {
   "display_name": "Python 3 (ipykernel)",
   "language": "python",
   "name": "python3"
  },
  "language_info": {
   "codemirror_mode": {
    "name": "ipython",
    "version": 3
   },
   "file_extension": ".py",
   "mimetype": "text/x-python",
   "name": "python",
   "nbconvert_exporter": "python",
   "pygments_lexer": "ipython3",
   "version": "3.11.3"
  }
 },
 "nbformat": 4,
 "nbformat_minor": 5
}
