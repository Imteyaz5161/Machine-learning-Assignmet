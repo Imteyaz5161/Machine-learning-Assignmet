{
 "cells": [
  {
   "cell_type": "markdown",
   "id": "a26076c0",
   "metadata": {},
   "source": [
    "# ML Assignment 1"
   ]
  },
  {
   "cell_type": "markdown",
   "id": "77601616",
   "metadata": {},
   "source": [
    "## 1. What does one mean by the term \"machine learning\"?"
   ]
  },
  {
   "cell_type": "markdown",
   "id": "cc4e9c57",
   "metadata": {},
   "source": [
    "__Ans__: Ans: Machine learning Popularly known as ML is a branch of Artificial Intelligence (AI) that allows software applications to become more accurate at predicting outcomes without being explicitly programmed to do so. Machine learning algorithms use historical data as input to predict new output values."
   ]
  },
  {
   "cell_type": "markdown",
   "id": "9f1c0909",
   "metadata": {},
   "source": [
    "## 2. Can you think of 4 distinct types of issues where it shines?"
   ]
  },
  {
   "cell_type": "markdown",
   "id": "2150a27e",
   "metadata": {},
   "source": [
    "__Ans:__ The following are some of the issues where Machine Learning can be used:\n",
    "\n",
    "- __`Image Recognition:`__ Image recognition is one of the most common applications of machine learning. It is used to identify objects, persons, places, digital images, etc. The popular use case of image recognition and face detection is __Automatic friend tagging suggestion__.\n",
    "\n",
    "\n",
    "- __`Speech Recognition:`__ Speech Recognition: While using Google, we get an option of Search by voice, it comes under speech recognition, and it's a popular application of Machine Learning. Speech recognition is a process of converting voice instructions into text, and it is also known as __Speech to text__, or __Computer based speech recognition__ At present, machine learning algorithms are widely used by various applications of speech recognition. Google assistant, Siri, Cortana, and Alexa are using speech recognition technology to follow the voice instructions.\n",
    "\n",
    "\n",
    "- __`Traffic prediction:`__ It predicts the traffic conditions such as whether traffic is cleared, slow-moving, or heavily congested with the help of two ways: Real Time location of the vehicle form Google Map app and sensors Average time has taken on past days at the same time.\n",
    "\n",
    "\n",
    "- __`Product recommendations:`__ Machine learning is widely used by various e-commerce and entertainment companies such as Amazon, Netflix, etc., for product recommendation to the user.\n",
    "\n"
   ]
  },
  {
   "cell_type": "markdown",
   "id": "c66dca71",
   "metadata": {},
   "source": [
    "## 3. What is a labeled training set, and how does it work?"
   ]
  },
  {
   "cell_type": "markdown",
   "id": "04d0445c",
   "metadata": {},
   "source": [
    "__Ans:__ You split up the data containing known response variable values into two pieces. The training set is used to train the algorithm, and then you use the trained model on the test set to predict the response variable values that are already known.\n",
    "\n"
   ]
  },
  {
   "cell_type": "markdown",
   "id": "89b0f855",
   "metadata": {},
   "source": [
    "## 4. What are the two most important tasks that are supervised?"
   ]
  },
  {
   "cell_type": "markdown",
   "id": "f5f44e39",
   "metadata": {},
   "source": [
    "__Ans:__ The two most common supervised learning tasks are __`Regression`__ and __`Classification`__."
   ]
  },
  {
   "cell_type": "markdown",
   "id": "1b190976",
   "metadata": {},
   "source": [
    "## 5. Can you think of four examples of unsupervised tasks?"
   ]
  },
  {
   "cell_type": "markdown",
   "id": "f9f2a4ea",
   "metadata": {},
   "source": [
    "__Ans:__ Four common Unsupervised Tasks included __Clustering__, __Visualization__, __Dimensionality Reduction__, and __Association Rule Learning__."
   ]
  },
  {
   "cell_type": "markdown",
   "id": "1eceff09",
   "metadata": {},
   "source": [
    "## 6. State the machine learning model that would be best to make a robot walk through various unfamiliar terrains?"
   ]
  },
  {
   "cell_type": "markdown",
   "id": "966153ab",
   "metadata": {},
   "source": [
    "__Ans:__ The best Machine Learning algorithm to allow a Robot to walk in unfamiliar terrains is __Reinforced Learning__, where the robot can learn from response of the terrain to optimize itself."
   ]
  },
  {
   "cell_type": "markdown",
   "id": "b1f1fee3",
   "metadata": {},
   "source": [
    "## 7. Which algorithm will you use to divide your customers into different groups?"
   ]
  },
  {
   "cell_type": "markdown",
   "id": "31cc52a7",
   "metadata": {},
   "source": [
    "__Ans:__ The Best Algorithm to Segment Customers into different groups is either __Supervised Learning__ (if the groups have known labels) or __Unsupervised Learning__ (if there are no group labels)."
   ]
  },
  {
   "cell_type": "markdown",
   "id": "d815b8b9",
   "metadata": {},
   "source": [
    "## 8. Will you consider the problem of spam detection to be a supervised or unsupervised learning problem?"
   ]
  },
  {
   "cell_type": "markdown",
   "id": "8d8967d2",
   "metadata": {},
   "source": [
    "__Ans:__ Spam detection is a Supervised Machine Learning problem because the labels are known (spam or no spam)."
   ]
  },
  {
   "cell_type": "markdown",
   "id": "c45628cf",
   "metadata": {},
   "source": [
    "## 9. What is the concept of an online learning system?"
   ]
  },
  {
   "cell_type": "markdown",
   "id": "cc4748e8",
   "metadata": {},
   "source": [
    "__Ans:__ Online learning system is a learning system in which the machine learns continously, as data is given in small streams continuously."
   ]
  },
  {
   "cell_type": "markdown",
   "id": "dd8e8781",
   "metadata": {},
   "source": [
    "## 10. What is out-of-core learning, and how does it differ from core learning?"
   ]
  },
  {
   "cell_type": "markdown",
   "id": "f8987f49",
   "metadata": {},
   "source": [
    "__Ans:__ Out-of-core learning system is a system that can handle data that cannot fit into your computer memory. It uses online learning system to feed data in small bits."
   ]
  },
  {
   "cell_type": "markdown",
   "id": "1878ff14",
   "metadata": {},
   "source": [
    "## 11. What kind of learning algorithm makes predictions using a similarity measure?"
   ]
  },
  {
   "cell_type": "markdown",
   "id": "65d078cd",
   "metadata": {},
   "source": [
    "__Ans:__ Learning algorithm that relies on a similarity measure to make predictions is __Instance Based Algorithm__."
   ]
  },
  {
   "cell_type": "markdown",
   "id": "62283253",
   "metadata": {},
   "source": [
    "## 12. What's the difference between a model parameter and a hyperparameter in a learning algorithm?"
   ]
  },
  {
   "cell_type": "markdown",
   "id": "d210e336",
   "metadata": {},
   "source": [
    "__Ans:__ Model parameter determines how a model will predict given a new instance. Model usually has more than one parameter (i.e. slope of a linear model). Hyperparameter is a parameter for the learning algorithm, not of a model."
   ]
  },
  {
   "cell_type": "markdown",
   "id": "4966b5e5",
   "metadata": {},
   "source": [
    "## 13. What are the criteria that model-based learning algorithms look for? What is the most popular method they use to achieve success? What method do they use to make predictions?"
   ]
  },
  {
   "cell_type": "markdown",
   "id": "82f9affe",
   "metadata": {},
   "source": [
    "__Ans:__ Model based learning algorithm search for the optimal value of parameters in a model that will give the best results for the new instances. We often use a cost function or similar to determine what the parameter value has to be in order to minimize the function. The model makes prediction by using the value of the new instance and the parameters in its function.\n",
    "\n"
   ]
  },
  {
   "cell_type": "markdown",
   "id": "0162f8e2",
   "metadata": {},
   "source": [
    "## 14. Can you name four of the most important Machine Learning challenges?"
   ]
  },
  {
   "cell_type": "markdown",
   "id": "b652dc56",
   "metadata": {},
   "source": [
    "__Ans:__ Four main challenges in Machine Learning include the following:\n",
    "\n",
    "- 1. Overfitting the Data (using a model too complicated)\n",
    "- 2. Underfitting the data (using a simple model)\n",
    "- 3. Lacking in Data\n",
    "- 4. Non Representative Data."
   ]
  },
  {
   "cell_type": "markdown",
   "id": "60456877",
   "metadata": {},
   "source": [
    "## 15. What happens if the model performs well on the training data but fails to generalize the results to new situations? Can you think of three different options?"
   ]
  },
  {
   "cell_type": "markdown",
   "id": "2383a797",
   "metadata": {},
   "source": [
    "__Ans:__ If the model performs poorly to new instances, then it has overfitted on the training data. To solve this, we can do any of the following three:\n",
    "\n",
    "- Get more data\n",
    "- Implement a simpler model\n",
    "- Eliminate outliers or noise from the existing data set."
   ]
  },
  {
   "cell_type": "markdown",
   "id": "562750f3",
   "metadata": {},
   "source": [
    "## 16. What exactly is a test set, and why would you need one?"
   ]
  },
  {
   "cell_type": "markdown",
   "id": "c77679df",
   "metadata": {},
   "source": [
    "__Ans:__ Test set is a set to test your model (fit using training data) to see how it performs.Test set is necessary to determine how good (or bad) a model performs."
   ]
  },
  {
   "cell_type": "markdown",
   "id": "f276a509",
   "metadata": {},
   "source": [
    "## 17. What is a validation set's purpose?"
   ]
  },
  {
   "cell_type": "markdown",
   "id": "aa0cc8b9",
   "metadata": {},
   "source": [
    "__Ans:__ Validation set is a set used to compare between different training models."
   ]
  },
  {
   "cell_type": "markdown",
   "id": "ff88e89e",
   "metadata": {},
   "source": [
    "## 18. What precisely is the train-dev kit, when will you need it, how do you put it to use?"
   ]
  },
  {
   "cell_type": "markdown",
   "id": "aba52228",
   "metadata": {},
   "source": [
    "__Ans:__ Cross-validation is a tool to compare models without needing a separate validation set. It is preferred over validation set because we can save from breaking of part of the training set to create a validation set, as having more data is valuable regardless."
   ]
  },
  {
   "cell_type": "markdown",
   "id": "b76e61b2",
   "metadata": {},
   "source": [
    "## 19. What could go wrong if you use the test set to tune hyperparameters?"
   ]
  },
  {
   "cell_type": "markdown",
   "id": "2b2fac8a",
   "metadata": {},
   "source": [
    "__Ans:__ If you tune hyperparameters using the test sets, then it may not perform well on the out-of-sample data because the model is tuned just for that specific set."
   ]
  },
  {
   "cell_type": "code",
   "execution_count": null,
   "id": "11711b7f",
   "metadata": {},
   "outputs": [],
   "source": []
  }
 ],
 "metadata": {
  "kernelspec": {
   "display_name": "Python 3",
   "language": "python",
   "name": "python3"
  },
  "language_info": {
   "codemirror_mode": {
    "name": "ipython",
    "version": 3
   },
   "file_extension": ".py",
   "mimetype": "text/x-python",
   "name": "python",
   "nbconvert_exporter": "python",
   "pygments_lexer": "ipython3",
   "version": "3.8.8"
  }
 },
 "nbformat": 4,
 "nbformat_minor": 5
}
