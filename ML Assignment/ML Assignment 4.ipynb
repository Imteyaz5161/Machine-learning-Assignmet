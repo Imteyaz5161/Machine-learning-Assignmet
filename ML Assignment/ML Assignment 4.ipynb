{
 "cells": [
  {
   "cell_type": "markdown",
   "id": "0e05c791",
   "metadata": {},
   "source": [
    "# ML Assignment 4"
   ]
  },
  {
   "cell_type": "markdown",
   "id": "11d50ebf",
   "metadata": {},
   "source": [
    "## 1. What are the key tasks involved in getting ready to work with machine learning modeling?"
   ]
  },
  {
   "cell_type": "markdown",
   "id": "6b13681d",
   "metadata": {},
   "source": [
    "__Ans:__ The Key Tasks involved in getting ready to work with Machine learning Modelling are:\n",
    "\n",
    "1. Data collection: Defining the problem and assembling a dataset.\n",
    "2. Data preparation: Preparing your data.\n",
    "3. Choosing a Model\n",
    "4. Training the Model: Developing a model that does better than a baseline.\n",
    "5. Evaluating the Model: Choosing a measure of success. Deciding on an evaluation protocol.\n",
    "6. Parameter tuning: Scaling up: developing a model that overfits.Regularizing your model and tuning your parameters.\n",
    "7. Prediction or Inference."
   ]
  },
  {
   "cell_type": "markdown",
   "id": "a8a0c139",
   "metadata": {},
   "source": [
    "![image](https://camo.githubusercontent.com/ca5952cdf93c83c8c67cea92ae4a8075fc0be62c359cc511afd01c9ee16c7d5a/68747470733a2f2f6d69726f2e6d656469756d2e636f6d2f6d61782f313430302f302a563047794f74334c6f445666593779352e706e67)\n"
   ]
  },
  {
   "cell_type": "markdown",
   "id": "5277464c",
   "metadata": {},
   "source": [
    "## 2. What are the different forms of data used in machine learning? Give a specific example for each of them."
   ]
  },
  {
   "cell_type": "markdown",
   "id": "49694eb1",
   "metadata": {},
   "source": [
    "__Ans:__ Most data can be categorized into 4 basic types from a Machine Learning perspective: `Numerical Data`, `Categorical Data`, `Time-Series Data`, and `Text data`.\n",
    "\n",
    "\n",
    "__Numerical Data:__\n",
    "Numerical data is any data where data points are exact numbers. Statisticians also might call numerical data, quantitative data. This data has meaning as a measurement such as house prices or as a count, such as a number of residential properties in Los Angeles or how many houses sold in the past year.\n",
    "\n",
    "Numerical data can be characterized by continuous or discrete data. Continuous data can assume any value within a range whereas discrete data has distinct values.\n",
    "\n",
    "__Categorical Data:__\n",
    "Categorical data represents characteristics, such as a hockey player’s position, team, hometown. Categorical data can take numerical values. For example, maybe we would use 1 for the colour red and 2 for blue. But these numbers don’t have a mathematical meaning. That is, we can’t add them together or take the average.\n",
    "\n",
    "__Time Series Data:__\n",
    "Time series data is a sequence of numbers collected at regular intervals over some period of time. It is very important, especially in particular fields like finance. Time series data has a temporal value attached to it, so this would be something like a date or a timestamp that you can look for trends in time.\n",
    "\n",
    "__Text data:__\n",
    "Text data is basically just words. A lot of the time the first thing that you do with text is you turn it into numbers using some interesting functions like the bag of words formulation."
   ]
  },
  {
   "cell_type": "markdown",
   "id": "a5971773",
   "metadata": {},
   "source": [
    "## 3. Distinguish:\n",
    "\n",
    "1. Numeric vs. categorical attributes\n",
    "2. Feature selection vs. dimensionality reduction\n"
   ]
  },
  {
   "cell_type": "markdown",
   "id": "b185ecf5",
   "metadata": {},
   "source": [
    "__Ans:__\n",
    "__1. Numeric vs. categorical attributes:__\n",
    "\n",
    "|                   | Numeric Attributes              | Categorical Attributes           |\n",
    "|-------------------|---------------------------------|---------------------------------|\n",
    "| Definition        | Represent quantities or values   | Represent discrete categories    |\n",
    "| Examples          | Age, height, temperature         | Gender, color, country           |\n",
    "| Operations        | Arithmetic operations possible  | No arithmetic operations        |\n",
    "| Data Types        | Integers, floats                | Strings, labels, factors         |\n",
    "| Analysis Methods  | Statistical analysis            | Frequency analysis              |\n",
    "| Visualization     | Histograms, scatter plots       | Bar plots, pie charts            |\n",
    "\n",
    "__2. Feature selection vs. dimensionality reduction:__\n",
    "\n",
    "|                        | Feature Selection                  | Dimensionality Reduction                |\n",
    "|------------------------|------------------------------------|-----------------------------------------|\n",
    "| Purpose                | Select the most relevant features   | Reduce the number of features           |\n",
    "| Techniques             | Filter methods, wrapper methods     | Principal Component Analysis (PCA),     |\n",
    "|                        | Embedded methods                    | Linear Discriminant Analysis (LDA),     |\n",
    "|                        |                                      | t-SNE, Autoencoders, etc.                |\n",
    "| Output                 | Subset of original features         | Transformed feature space               |\n",
    "| Importance of Order    | Order of feature selection matters  | Order of feature reduction matters       |\n",
    "| Information Retained   | Retains original feature values     | Transformed features capture information|\n"
   ]
  },
  {
   "cell_type": "markdown",
   "id": "3aa44e78",
   "metadata": {},
   "source": [
    "## 4. Make quick notes on any two of the following:\n",
    "\n",
    "1. The histogram\n",
    "2. Use a scatter plot\n",
    "3. PCA (Personal Computer Aid)\n"
   ]
  },
  {
   "cell_type": "markdown",
   "id": "797340c5",
   "metadata": {},
   "source": [
    "__Ans:__ The Quick notes on the following three topics is:\n",
    "\n",
    "__The histogram:__ A Histogram is a graphical representation that organizes a group of data points into user-specified ranges. Similar in appearance to a bar graph, the histogram condenses a data series into an easily interpreted visual by taking many data points and grouping them into logical ranges or bins.\n",
    "\n",
    "__Use a scatter plot:__ A scatter plot (aka scatter chart, scatter graph) uses dots to represent values for two different numeric variables. The position of each dot on the horizontal and vertical axis indicates values for an individual data point. Scatter plots are used to observe relationships between variables.\n",
    "\n",
    "__PCA (Principal Component Analysis):__ Principal Component Analysis or PCA is a widely used technique for dimensionality reduction of the large data set. Reducing the number of components or features costs some accuracy and on the other hand, it makes the large data set simpler, easy to explore and visualize."
   ]
  },
  {
   "cell_type": "markdown",
   "id": "f9960e65",
   "metadata": {},
   "source": [
    "## 5. Why is it necessary to investigate data? Is there a discrepancy in how qualitative and quantitative data are explored?"
   ]
  },
  {
   "cell_type": "markdown",
   "id": "f68242c7",
   "metadata": {},
   "source": [
    "__Ans:__ If your data set is messy, building models will not help you to solve your problem. What will happen is `Garbage In, Garbage Out`. In order to build a powerful machine learning algorithm. We need to explore and understand our data set before we define a predictive task and solve it."
   ]
  },
  {
   "cell_type": "markdown",
   "id": "cb741beb",
   "metadata": {},
   "source": [
    "## 6. What are the various histogram shapes? What exactly are ‘bins'?"
   ]
  },
  {
   "cell_type": "markdown",
   "id": "74827e35",
   "metadata": {},
   "source": [
    "__Ans:__ The different types of a Histogram are:\n",
    "\n",
    "1. Uniform Histogram\n",
    "2. Symmetric Histogram\n",
    "3. Bimodal Histogram\n",
    "4. Probability Histogram.\n",
    "\n",
    "The `bin` in a histogram is the choice of unit and spacing on the X-axis. All the data in a probability distribution represented visually by a histogram is filled into the corresponding bins. The height of each bin is a measurement of the frequency with which data appears inside the range of that bin in the distribution."
   ]
  },
  {
   "cell_type": "markdown",
   "id": "55e46367",
   "metadata": {},
   "source": [
    "## 7. How do we deal with data outliers?"
   ]
  },
  {
   "cell_type": "markdown",
   "id": "bf567a6b",
   "metadata": {},
   "source": [
    "__Ans:__ We can use `Z-Score` or any of below methods to deal with data outliers:\n",
    "\n",
    "__Univariate Method:__ This method looks for data points with extreme values on one variable.\n",
    "\n",
    "__Multivariate Method:__ Here, we look for unusual combinations of all the variables.\n",
    "\n",
    "__Minkowski Error:__ This method reduces the contribution of potential outliers in the training process.\n",
    "\n",
    "__Z-Score:__ This can be done with just one line code as we have already calculated the Z-score.\n",
    "`boston_df_o = boston_df_o[(z < 3).all(axis=1)]`\n",
    "\n",
    "__IQR Score:__ Calculate IQR score to filter out the outliers by keeping only valid values.\n",
    "`boston_df_out = boston_df_o1[~((boston_df_o1 < (Q1 - 1.5 * IQR)) |(boston_df_o1 > (Q3 + 1.5 *IQR))).any(axis=1)]\n",
    "boston_df_out.shape`\n",
    "\n",
    "__Quantile function:__ Use `quantile()` to remove amount of data."
   ]
  },
  {
   "cell_type": "markdown",
   "id": "4c6e957e",
   "metadata": {},
   "source": [
    "## 8. What are the various central inclination measures? Why does mean vary too much from median in certain data sets?"
   ]
  },
  {
   "cell_type": "markdown",
   "id": "9a809785",
   "metadata": {},
   "source": [
    "__Ans:__ `Mean`, `Median` and `Mode` are Central Inclination Measures. Mean varies more than Median due to presence of outliers, as mean is averaging all points while median in like finding a middle number."
   ]
  },
  {
   "cell_type": "markdown",
   "id": "90880ce1",
   "metadata": {},
   "source": [
    "## 9. Describe how a scatter plot can be used to investigate bivariate relationships. Is it possible to find outliers using a scatter plot?"
   ]
  },
  {
   "cell_type": "markdown",
   "id": "db340934",
   "metadata": {},
   "source": [
    "__Ans:__ A `Scatter Plot` (aka scatter chart, scatter graph) uses dots to represent values for two different numeric variables. The position of each dot on the horizontal and vertical axis indicates values for an individual data point. So this visualization gives us the idea of bivariate relationship.\n",
    "\n",
    "Scatter plot can also help finding outliers as outliers can be visualized at farther distance than regular data."
   ]
  },
  {
   "cell_type": "markdown",
   "id": "63c214e4",
   "metadata": {},
   "source": [
    "## 10. Describe how cross-tabs can be used to figure out how two variables are related."
   ]
  },
  {
   "cell_type": "markdown",
   "id": "719db86c",
   "metadata": {},
   "source": [
    "__Ans:__ `Cross tabulation` is a method to quantitatively analyze the relationship between multiple variables. Also known as contingency tables or cross tabs, cross tabulation groups variables to understand the correlation between different variables. It also shows how correlations change from one variable grouping to another."
   ]
  },
  {
   "cell_type": "code",
   "execution_count": null,
   "id": "47cbdfa1",
   "metadata": {},
   "outputs": [],
   "source": []
  }
 ],
 "metadata": {
  "kernelspec": {
   "display_name": "Python 3",
   "language": "python",
   "name": "python3"
  },
  "language_info": {
   "codemirror_mode": {
    "name": "ipython",
    "version": 3
   },
   "file_extension": ".py",
   "mimetype": "text/x-python",
   "name": "python",
   "nbconvert_exporter": "python",
   "pygments_lexer": "ipython3",
   "version": "3.8.8"
  }
 },
 "nbformat": 4,
 "nbformat_minor": 5
}
